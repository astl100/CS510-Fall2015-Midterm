{
 "cells": [
  {
   "cell_type": "code",
   "execution_count": 1,
   "metadata": {
    "collapsed": false
   },
   "outputs": [
    {
     "ename": "SyntaxError",
     "evalue": "invalid syntax (attractor.py, line 4)",
     "output_type": "error",
     "traceback": [
      "\u001b[1;36m  File \u001b[1;32m\"attractor.py\"\u001b[1;36m, line \u001b[1;32m4\u001b[0m\n\u001b[1;33m    %matplotlib inline\u001b[0m\n\u001b[1;37m    ^\u001b[0m\n\u001b[1;31mSyntaxError\u001b[0m\u001b[1;31m:\u001b[0m invalid syntax\n"
     ]
    }
   ],
   "source": [
    "import attractor.py"
   ]
  },
  {
   "cell_type": "markdown",
   "metadata": {},
   "source": [
    "How does the plotted solution depend on your choice of time step size, and your choice of increment?  Do you see an improvement in precision from using the higher-order integration methods?\n",
    "\n",
    "The accuracy of the plotted solution depends directly on the step size. The smaller the steps, the more accurate the solution is due to more evaluations of the original curve. Higher order integration methods allow for more precision as they more closely evaluate the slope. In our case, Euler will give us the least precise estimation where every higher order of runge-kutta will be more and more accurate. \n"
   ]
  },
  {
   "cell_type": "markdown",
   "metadata": {},
   "source": [
    "How does the solution depend upon the initial conditions [x0, y0, z0]?  How small a change can you make while still reproducing roughly the same dynamical curves?\n",
    "\n",
    "Depending on the initial conditions, the amount of time varies for the solutions to reach their real values. It will take longer for the solutions to approach their actual values if the initial conditions vary greatly from the real values. Whereas it won't take as long for the solutions to approach their actual values if the initial conditions are similar to the real values. Due to error, I could not group and am unaware of the size of change reproducing roughly the same curve."
   ]
  },
  {
   "cell_type": "code",
   "execution_count": null,
   "metadata": {
    "collapsed": true
   },
   "outputs": [],
   "source": []
  }
 ],
 "metadata": {
  "kernelspec": {
   "display_name": "Python 2",
   "language": "python",
   "name": "python2"
  },
  "language_info": {
   "codemirror_mode": {
    "name": "ipython",
    "version": 2
   },
   "file_extension": ".py",
   "mimetype": "text/x-python",
   "name": "python",
   "nbconvert_exporter": "python",
   "pygments_lexer": "ipython2",
   "version": "2.7.9"
  },
  "name": "ExploreAttractor.ipynb"
 },
 "nbformat": 4,
 "nbformat_minor": 0
}
