{
 "cells": [
  {
   "cell_type": "markdown",
   "metadata": {
    "collapsed": false
   },
   "source": [
    "# Midterm Project\n",
    "\n",
    "### Lindy Astl"
   ]
  },
  {
   "cell_type": "code",
   "execution_count": 85,
   "metadata": {
    "collapsed": false
   },
   "outputs": [
    {
     "ename": "SyntaxError",
     "evalue": "invalid syntax (<ipython-input-85-7b9d7ee37004>, line 32)",
     "output_type": "error",
     "traceback": [
      "\u001b[1;36m  File \u001b[1;32m\"<ipython-input-85-7b9d7ee37004>\"\u001b[1;36m, line \u001b[1;32m32\u001b[0m\n\u001b[1;33m    k1 = np.array([dx, dy, dz])\u001b[0m\n\u001b[1;37m     ^\u001b[0m\n\u001b[1;31mSyntaxError\u001b[0m\u001b[1;31m:\u001b[0m invalid syntax\n"
     ]
    }
   ],
   "source": [
    "import numpy as np\n",
    "import pandas as pd\n",
    "import matplotlib.pyplot as plt\n",
    "%matplotlib inline\n",
    "import csv\n",
    "\n",
    "class Attractor(object):\n",
    "    \n",
    "    def __init__(self, s=10, p=(8/3), b=28, start=0.0, end=80.0, points=10000):\n",
    "        self.s = s\n",
    "        self.p = p\n",
    "        self.b = b\n",
    "        self.params = np.array([self.s, self.p, self.b])\n",
    "        \n",
    "        self.start = start\n",
    "        self.end = end\n",
    "        self.points = points\n",
    "        self.dt = np.linspace(self.start, self.end, self.points)\n",
    "        self.step = (self.end - self.start) / self.points\n",
    "        \n",
    "        self.solution = []\n",
    "        x0 = 0.0\n",
    "        y0 = 0.0\n",
    "        z0 = 1.0\n",
    "    \n",
    "    def euler(self, r):\n",
    "        r = np.array([x, y, z])\n",
    "        \n",
    "        dx = (self.s * (y - x)) * self.dt\n",
    "        dy = (x * (self.p - z) - y) * self.dt\n",
    "        dz = ((x * y) - (self.b * z) * self.dt\n",
    "        k1 = np.array([dx, dy, dz]) \n",
    "        \n",
    "        return k1\n",
    "              \n",
    "        #n = len(self.dt)\n",
    "        \n",
    "        #for i in xrange(n - 1):\n",
    "        #    dx = (self.s * (y - x)) * self.dt[i]\n",
    "        #    dy = (x * (self.p - z) - y) * self.dt[i]\n",
    "        #    dz = ((x * y) - (self.b * z) * self.dt[i]\n",
    "        # k1 = np.array([dx, dy, dz]) \n",
    "        \n",
    "    \n",
    "    def rk2(self, r):\n",
    "        r = np.array([x, y, z])\n",
    "        new_inc = self.step/2\n",
    "              \n",
    "        dx = (self.s * (y - x)) * (self.step + new_inc) + (euler(r)*new_inc)\n",
    "        dy = (x * (self.p - z) - y) * (self.step + new_inc) + (euler(r)*new_inc)\n",
    "        dz = ((x * y) - (self.b * z) * (self.step + new_inc) + (euler(r)*new_inc)\n",
    "        k2 = np.array([dx, dy, dz]) \n",
    "        \n",
    "        return k2\n",
    "              \n",
    "        \n",
    "    def rk3(self, r):\n",
    "        r = np.array([x, y, z])\n",
    "        new_inc = self.step/2\n",
    "              \n",
    "        dx = (self.s * (y - x)) * (self.step + new_inc) + (rk2(r)*new_inc)\n",
    "        dy = (x * (self.p - z) - y) * (self.step + new_inc) + (rk2(r)*new_inc)\n",
    "        dz = ((x * y) - (self.b * z) * (self.step + new_inc) + (rk2(r)*new_inc)\n",
    "        k3 = np.array([dx, dy, dz]) \n",
    "        \n",
    "        return k3\n",
    "              \n",
    "    def rk4():\n",
    "        r = np.array([x, y, z])\n",
    "        new_inc = self.step/2\n",
    "              \n",
    "        dx = (self.s * (y - x)) * (self.step + new_inc) + (rk3(r)*self.step)\n",
    "        dy = (x * (self.p - z) - y) * (self.step + new_inc) + (rk3(r)*self.step)\n",
    "        dz = ((x * y) - (self.b * z) * (self.step + new_inc) + (rk3(r)*self.step)\n",
    "        k4 = np.array([dx, dy, dz]) \n",
    "        \n",
    "        return k4\n",
    "              \n",
    "        \n",
    "    def evolve(self, r0 = np.array([x0,y0,z0]), order = 4):\n",
    "        \n",
    "        if order == 1:\n",
    "              i = euler(r0)\n",
    "        elif order == 2:\n",
    "              i = rk2(r0)\n",
    "        elif order == 4:\n",
    "              i = rk4(r0)\n",
    "        else:\n",
    "              print \"Incorrect input\"\n",
    "        #t = [t+i for _ in self.dt]\n",
    "        df = pd.DataFrame({[self.dt, i]})\n",
    "        df.columns = [\"t\", \"x\", \"y\", \"z\"]\n",
    "        self.solution = df\n",
    "        return self.solution\n",
    "              \n",
    "    \n",
    "    def save(self):\n",
    "        self.solution.to_csv('solution.csv')\n",
    "        \n",
    "    def plotx(self):\n",
    "        plt.plot(self.dt, dx)\n",
    "        \n",
    "    def ploty(self): \n",
    "        plt.plot(self.dt, dy)\n",
    "    \n",
    "    def plotz(self):\n",
    "        plt.plot(self.dt, dz) \n",
    "    \n",
    "    def plot3d(self):\n",
    "        from mpl_toolkits.mplot3d import Axes3D\n",
    "        fig = plt.figure()\n",
    "        ax = fig.add_subplot(111, projection='3d')\n",
    "        Axes3D.plot(dx, dy, dz)#each being a list of values calculated from appropriate dt values\n",
    "        plt.show()"
   ]
  },
  {
   "cell_type": "code",
   "execution_count": 26,
   "metadata": {
    "collapsed": false
   },
   "outputs": [
    {
     "name": "stdout",
     "output_type": "stream",
     "text": [
      "5\n",
      "[ 0.   0.5  1.   1.5  2.   2.5  3.   3.5  4.   4.5]\n"
     ]
    }
   ],
   "source": [
    "import numpy as np\n",
    "x = [1, 2, 3, 4, 5]\n",
    "y = [2, 4, 6, 8, 10]\n",
    "z = [3, 3, 3, 3, 3]\n",
    "r0 = np.array([x, y, z])\n",
    "i = .5\n",
    "\n",
    "length = len(x)\n",
    "print length\n",
    "r_np = np.arange(0, length, i)\n",
    "print r_np\n"
   ]
  },
  {
   "cell_type": "code",
   "execution_count": 86,
   "metadata": {
    "collapsed": false
   },
   "outputs": [
    {
     "data": {
      "text/html": [
       "<div>\n",
       "<table border=\"1\" class=\"dataframe\">\n",
       "  <thead>\n",
       "    <tr style=\"text-align: right;\">\n",
       "      <th></th>\n",
       "      <th>0</th>\n",
       "    </tr>\n",
       "  </thead>\n",
       "  <tbody>\n",
       "    <tr>\n",
       "      <th>0</th>\n",
       "      <td>5</td>\n",
       "    </tr>\n",
       "    <tr>\n",
       "      <th>1</th>\n",
       "      <td>5</td>\n",
       "    </tr>\n",
       "    <tr>\n",
       "      <th>2</th>\n",
       "      <td>5</td>\n",
       "    </tr>\n",
       "    <tr>\n",
       "      <th>3</th>\n",
       "      <td>5</td>\n",
       "    </tr>\n",
       "    <tr>\n",
       "      <th>4</th>\n",
       "      <td>5</td>\n",
       "    </tr>\n",
       "    <tr>\n",
       "      <th>5</th>\n",
       "      <td>5</td>\n",
       "    </tr>\n",
       "  </tbody>\n",
       "</table>\n",
       "</div>"
      ],
      "text/plain": [
       "   0\n",
       "0  5\n",
       "1  5\n",
       "2  5\n",
       "3  5\n",
       "4  5\n",
       "5  5"
      ]
     },
     "execution_count": 86,
     "metadata": {},
     "output_type": "execute_result"
    }
   ],
   "source": [
    "import pandas as pd\n",
    "import numpy as np\n",
    "\n",
    "t = [0, 1, 2, 3, 4, 5]\n",
    "d = [5, 5, 5, 5, 5, 5]\n",
    "\n",
    "dt = pd.DataFrame(d,t)\n",
    "\n",
    "dt[:]"
   ]
  },
  {
   "cell_type": "code",
   "execution_count": null,
   "metadata": {
    "collapsed": false
   },
   "outputs": [],
   "source": [
    "\n"
   ]
  },
  {
   "cell_type": "code",
   "execution_count": null,
   "metadata": {
    "collapsed": false
   },
   "outputs": [],
   "source": []
  },
  {
   "cell_type": "code",
   "execution_count": null,
   "metadata": {
    "collapsed": false
   },
   "outputs": [],
   "source": [
    "\n",
    "          "
   ]
  },
  {
   "cell_type": "code",
   "execution_count": 76,
   "metadata": {
    "collapsed": false
   },
   "outputs": [
    {
     "ename": "SyntaxError",
     "evalue": "invalid syntax (<ipython-input-76-e414880eb0e2>, line 32)",
     "output_type": "error",
     "traceback": [
      "\u001b[1;36m  File \u001b[1;32m\"<ipython-input-76-e414880eb0e2>\"\u001b[1;36m, line \u001b[1;32m32\u001b[0m\n\u001b[1;33m    dx1.append(dx)\u001b[0m\n\u001b[1;37m      ^\u001b[0m\n\u001b[1;31mSyntaxError\u001b[0m\u001b[1;31m:\u001b[0m invalid syntax\n"
     ]
    }
   ],
   "source": [
    "import numpy as np\n",
    "x = 0\n",
    "y = 0\n",
    "z = 0\n",
    "def euler(r):\n",
    "    import numpy as np\n",
    "    x = 0\n",
    "    y = 0\n",
    "    z = 0\n",
    "    r = np.array([x, y, z])\n",
    "    s=10\n",
    "    p=(8/3)\n",
    "    b=28\n",
    "    params = np.array([s, p, b])\n",
    "    start=0.0\n",
    "    end=80.0\n",
    "    points=10000\n",
    "    dt = np.linspace(start, end, points)\n",
    "    step = (end - start) / points\n",
    "    n = len(dt)\n",
    "    x0 = params\n",
    "    x = np.array([x0]*n)\n",
    "    dx1 = []\n",
    "    dy1 = []\n",
    "    dz1 = []\n",
    "    for i in xrange(n-1):\n",
    "        #x[i+1] = x[i] + (dt[i+1] -dt[i] ) * f( x[i],dt[i] )\n",
    "        dx = (s * (y - x)) * dt[i]\n",
    "        dy = (x * (p - z) - y) * dt[i]\n",
    "        dz = ((x * y) - (b * z) * dt[i]\n",
    "              \n",
    "        dx1.append(dx)\n",
    "        dy1.append(dy)\n",
    "        dz1.append(dz)\n",
    "    return np.array([dx1,dy1,dz1])"
   ]
  },
  {
   "cell_type": "code",
   "execution_count": null,
   "metadata": {
    "collapsed": false
   },
   "outputs": [],
   "source": []
  },
  {
   "cell_type": "code",
   "execution_count": null,
   "metadata": {
    "collapsed": true
   },
   "outputs": [],
   "source": []
  }
 ],
 "metadata": {
  "kernelspec": {
   "display_name": "Python 2",
   "language": "python",
   "name": "python2"
  },
  "language_info": {
   "codemirror_mode": {
    "name": "ipython",
    "version": 2
   },
   "file_extension": ".py",
   "mimetype": "text/x-python",
   "name": "python",
   "nbconvert_exporter": "python",
   "pygments_lexer": "ipython2",
   "version": "2.7.9"
  },
  "name": "MidtermProject.ipynb"
 },
 "nbformat": 4,
 "nbformat_minor": 0
}
